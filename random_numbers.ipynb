{
 "cells": [
  {
   "cell_type": "code",
   "execution_count": 12,
   "id": "dcc7407b",
   "metadata": {},
   "outputs": [],
   "source": [
    "# Import the random module.\n",
    "import random"
   ]
  },
  {
   "cell_type": "code",
   "execution_count": 13,
   "id": "3eccd8b5",
   "metadata": {},
   "outputs": [
    {
     "data": {
      "text/plain": [
       "-57"
      ]
     },
     "execution_count": 13,
     "metadata": {},
     "output_type": "execute_result"
    }
   ],
   "source": [
    "random.randint(-90, 90)"
   ]
  },
  {
   "cell_type": "code",
   "execution_count": 14,
   "id": "411c7288",
   "metadata": {},
   "outputs": [
    {
     "data": {
      "text/plain": [
       "[-39.418648834407115,\n",
       " 83.43428545794731,\n",
       " 87.95702345044926,\n",
       " 76.36775427376499,\n",
       " -74.35508242492118,\n",
       " -5.883609879982256,\n",
       " 47.776776347456725,\n",
       " 84.37543385522575,\n",
       " -11.441890220051866,\n",
       " -20.967347519300866]"
      ]
     },
     "execution_count": 14,
     "metadata": {},
     "output_type": "execute_result"
    }
   ],
   "source": [
    "#generates 10 random latitudes\n",
    "x = 1\n",
    "latitudes = []\n",
    "while x < 11:\n",
    "    random_lat = random.randint(-90, 89) + random.random()\n",
    "    latitudes.append(random_lat)\n",
    "    x += 1\n",
    "latitudes"
   ]
  },
  {
   "cell_type": "code",
   "execution_count": 15,
   "id": "b813d635",
   "metadata": {},
   "outputs": [
    {
     "data": {
      "text/plain": [
       "54"
      ]
     },
     "execution_count": 15,
     "metadata": {},
     "output_type": "execute_result"
    }
   ],
   "source": [
    "random.randrange(-90, 90, step=1)"
   ]
  },
  {
   "cell_type": "code",
   "execution_count": 16,
   "id": "3782eeb0",
   "metadata": {},
   "outputs": [],
   "source": [
    "# Import the NumPy module.\n",
    "import numpy as np"
   ]
  },
  {
   "cell_type": "code",
   "execution_count": 17,
   "id": "9f521907",
   "metadata": {},
   "outputs": [
    {
     "data": {
      "text/plain": [
       "array([  2.21979432, -65.09081186, -38.64067512,  44.52405584,\n",
       "       -88.96943625, -41.45893562,  12.30759586, -24.13000876,\n",
       "        84.36808025, -59.71624394,  20.48667138,  39.25543173,\n",
       "        31.2613436 , -56.04883217,  17.60007712,  26.90750215,\n",
       "       -23.32003399,  -8.43212118,  89.33369726, -73.1378431 ,\n",
       "       -78.60036433,  24.39660054, -15.09481704,  67.77037353,\n",
       "        75.62143487, -21.96171206, -81.42934634,  32.72197898,\n",
       "       -23.51287885, -74.62625829,  31.62277477,  34.83087457,\n",
       "       -72.4278098 ,  23.85669277,  44.76625086,  46.85985358,\n",
       "        17.62528106,  57.61455079,  48.62072605,  40.50580753,\n",
       "       -47.72336663, -44.28283837,  73.14393142, -38.24799299,\n",
       "        56.35915799, -39.80004076, -52.44266139, -87.84665942,\n",
       "        71.27695046, -44.99238887])"
      ]
     },
     "execution_count": 17,
     "metadata": {},
     "output_type": "execute_result"
    }
   ],
   "source": [
    "np.random.uniform(-90.000, 90.000, size=50)"
   ]
  },
  {
   "cell_type": "code",
   "execution_count": 18,
   "id": "d3d13268",
   "metadata": {},
   "outputs": [],
   "source": [
    "# Import timeit.\n",
    "import timeit"
   ]
  },
  {
   "cell_type": "code",
   "execution_count": 19,
   "id": "b48e9731",
   "metadata": {},
   "outputs": [
    {
     "name": "stdout",
     "output_type": "stream",
     "text": [
      "14.1 µs ± 236 ns per loop (mean ± std. dev. of 7 runs, 100000 loops each)\n"
     ]
    }
   ],
   "source": [
    "%timeit np.random.uniform(-90.000, 90.000, size=1500)"
   ]
  },
  {
   "cell_type": "code",
   "execution_count": 20,
   "id": "c9ab0ea3",
   "metadata": {},
   "outputs": [
    {
     "name": "stdout",
     "output_type": "stream",
     "text": [
      "1.55 ms ± 26.7 µs per loop (mean ± std. dev. of 7 runs, 1000 loops each)\n"
     ]
    }
   ],
   "source": [
    "def latitudes(size):\n",
    "    latitudes = []\n",
    "    x = 0\n",
    "    while x < (size):\n",
    "        random_lat = random.randint(-90, 90) + random.random()\n",
    "        latitudes.append(random_lat)\n",
    "        x += 1\n",
    "    return latitudes\n",
    "# Call the function with 1500.\n",
    "%timeit latitudes(1500)"
   ]
  },
  {
   "cell_type": "code",
   "execution_count": null,
   "id": "df21abea",
   "metadata": {},
   "outputs": [],
   "source": []
  }
 ],
 "metadata": {
  "kernelspec": {
   "display_name": "PythonData",
   "language": "python",
   "name": "pythondata"
  },
  "language_info": {
   "codemirror_mode": {
    "name": "ipython",
    "version": 3
   },
   "file_extension": ".py",
   "mimetype": "text/x-python",
   "name": "python",
   "nbconvert_exporter": "python",
   "pygments_lexer": "ipython3",
   "version": "3.7.10"
  }
 },
 "nbformat": 4,
 "nbformat_minor": 5
}
